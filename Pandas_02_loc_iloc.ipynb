{
 "cells": [
  {
   "cell_type": "code",
   "execution_count": 1,
   "id": "8213c3c2",
   "metadata": {},
   "outputs": [],
   "source": [
    "import pandas as pd"
   ]
  },
  {
   "cell_type": "code",
   "execution_count": 2,
   "id": "6f0da393",
   "metadata": {},
   "outputs": [
    {
     "data": {
      "text/html": [
       "<div>\n",
       "<style scoped>\n",
       "    .dataframe tbody tr th:only-of-type {\n",
       "        vertical-align: middle;\n",
       "    }\n",
       "\n",
       "    .dataframe tbody tr th {\n",
       "        vertical-align: top;\n",
       "    }\n",
       "\n",
       "    .dataframe thead th {\n",
       "        text-align: right;\n",
       "    }\n",
       "</style>\n",
       "<table border=\"1\" class=\"dataframe\">\n",
       "  <thead>\n",
       "    <tr style=\"text-align: right;\">\n",
       "      <th></th>\n",
       "      <th>capital</th>\n",
       "      <th>continent</th>\n",
       "      <th>language</th>\n",
       "    </tr>\n",
       "    <tr>\n",
       "      <th>country</th>\n",
       "      <th></th>\n",
       "      <th></th>\n",
       "      <th></th>\n",
       "    </tr>\n",
       "  </thead>\n",
       "  <tbody>\n",
       "    <tr>\n",
       "      <th>United States</th>\n",
       "      <td>Washington D.C.</td>\n",
       "      <td>North America</td>\n",
       "      <td>English</td>\n",
       "    </tr>\n",
       "    <tr>\n",
       "      <th>The Netherlands</th>\n",
       "      <td>Amsterdam</td>\n",
       "      <td>Europe</td>\n",
       "      <td>Dutch</td>\n",
       "    </tr>\n",
       "    <tr>\n",
       "      <th>Spain</th>\n",
       "      <td>Madrid</td>\n",
       "      <td>Europe</td>\n",
       "      <td>Spanish</td>\n",
       "    </tr>\n",
       "    <tr>\n",
       "      <th>Mexico</th>\n",
       "      <td>Mexico City</td>\n",
       "      <td>North America</td>\n",
       "      <td>Spanish</td>\n",
       "    </tr>\n",
       "    <tr>\n",
       "      <th>Australia</th>\n",
       "      <td>Canberra</td>\n",
       "      <td>Australia</td>\n",
       "      <td>English</td>\n",
       "    </tr>\n",
       "  </tbody>\n",
       "</table>\n",
       "</div>"
      ],
      "text/plain": [
       "                         capital      continent language\n",
       "country                                                 \n",
       "United States    Washington D.C.  North America  English\n",
       "The Netherlands        Amsterdam         Europe    Dutch\n",
       "Spain                     Madrid         Europe  Spanish\n",
       "Mexico               Mexico City  North America  Spanish\n",
       "Australia               Canberra      Australia  English"
      ]
     },
     "execution_count": 2,
     "metadata": {},
     "output_type": "execute_result"
    }
   ],
   "source": [
    "# Set countries_df index to country\n",
    "countries_df = pd.DataFrame({\n",
    "'country': ['United States', 'The Netherlands', 'Spain', 'Mexico', 'Australia'],\n",
    "'capital': ['Washington D.C.', 'Amsterdam', 'Madrid', 'Mexico City', 'Canberra'],\n",
    "'continent': ['North America', 'Europe', 'Europe', 'North America', 'Australia'],\n",
    "'language': ['English', 'Dutch', 'Spanish', 'Spanish', 'English']})\n",
    "\n",
    "countries_df = countries_df.set_index(\"country\")\n",
    "countries_df"
   ]
  },
  {
   "cell_type": "code",
   "execution_count": 3,
   "id": "5c3f062f",
   "metadata": {},
   "outputs": [
    {
     "name": "stdout",
     "output_type": "stream",
     "text": [
      "Mexico City\n"
     ]
    },
    {
     "data": {
      "text/plain": [
       "'Mexico City'"
      ]
     },
     "execution_count": 3,
     "metadata": {},
     "output_type": "execute_result"
    }
   ],
   "source": [
    "# Use loc and iloc \"query\" to get capital of Mexico\n",
    "print(countries_df.loc[\"Mexico\", \"capital\"])\n",
    "countries_df.iloc[3, 0]"
   ]
  },
  {
   "cell_type": "code",
   "execution_count": 4,
   "id": "5fc263c7",
   "metadata": {},
   "outputs": [
    {
     "name": "stdout",
     "output_type": "stream",
     "text": [
      "country\n",
      "United States      English\n",
      "The Netherlands      Dutch\n",
      "Spain              Spanish\n",
      "Mexico             Spanish\n",
      "Australia          English\n",
      "Name: language, dtype: object\n"
     ]
    },
    {
     "data": {
      "text/plain": [
       "country\n",
       "United States      English\n",
       "The Netherlands      Dutch\n",
       "Spain              Spanish\n",
       "Mexico             Spanish\n",
       "Australia          English\n",
       "Name: language, dtype: object"
      ]
     },
     "execution_count": 4,
     "metadata": {},
     "output_type": "execute_result"
    }
   ],
   "source": [
    "# Use loc and iloc \"query\" to get all languages\n",
    "print(countries_df.loc[:, \"language\"])\n",
    "countries_df.iloc[:, 2]"
   ]
  },
  {
   "cell_type": "code",
   "execution_count": 5,
   "id": "64e46abf",
   "metadata": {
    "scrolled": true
   },
   "outputs": [
    {
     "name": "stdout",
     "output_type": "stream",
     "text": [
      "capital       Madrid\n",
      "continent     Europe\n",
      "language     Spanish\n",
      "Name: Spain, dtype: object\n"
     ]
    },
    {
     "data": {
      "text/plain": [
       "capital       Madrid\n",
       "continent     Europe\n",
       "language     Spanish\n",
       "Name: Spain, dtype: object"
      ]
     },
     "execution_count": 5,
     "metadata": {},
     "output_type": "execute_result"
    }
   ],
   "source": [
    "# Use loc and iloc \"query\" to get all data for Spain\n",
    "print(countries_df.loc[\"Spain\", :])\n",
    "countries_df.iloc[2, :]"
   ]
  },
  {
   "cell_type": "code",
   "execution_count": 6,
   "id": "7dc9d012",
   "metadata": {},
   "outputs": [
    {
     "data": {
      "text/plain": [
       "Index(['bank', 'country', 'total_assets_us_b', 'balance_sheet'], dtype='object')"
      ]
     },
     "execution_count": 6,
     "metadata": {},
     "output_type": "execute_result"
    }
   ],
   "source": [
    "# How method columns works\n",
    "banks_df = pd.read_csv(\"top100banks.csv\", index_col=\"rank\")\n",
    "banks_df.columns"
   ]
  },
  {
   "cell_type": "code",
   "execution_count": 7,
   "id": "e2551d7b",
   "metadata": {},
   "outputs": [
    {
     "data": {
      "text/plain": [
       "rank\n",
       "1      Industrial & Commercial Bank of China\n",
       "2               China Construction Bank Corp\n",
       "3                 Agricultural Bank of China\n",
       "4                              Bank of China\n",
       "5             Mitsubishi UFJ Financial Group\n",
       "                       ...                  \n",
       "116                      Qatar National Bank\n",
       "117                  National Bank of Canada\n",
       "118                           Suntrust Banks\n",
       "119                   Korea Development Bank\n",
       "120                                  Belfius\n",
       "Name: bank, Length: 120, dtype: object"
      ]
     },
     "execution_count": 7,
     "metadata": {},
     "output_type": "execute_result"
    }
   ],
   "source": [
    "# How columns names can be called (this is rarely used in practice if ever)\n",
    "banks_df.bank"
   ]
  },
  {
   "cell_type": "code",
   "execution_count": 8,
   "id": "28bd8fd7",
   "metadata": {},
   "outputs": [
    {
     "data": {
      "text/html": [
       "<div>\n",
       "<style scoped>\n",
       "    .dataframe tbody tr th:only-of-type {\n",
       "        vertical-align: middle;\n",
       "    }\n",
       "\n",
       "    .dataframe tbody tr th {\n",
       "        vertical-align: top;\n",
       "    }\n",
       "\n",
       "    .dataframe thead th {\n",
       "        text-align: right;\n",
       "    }\n",
       "</style>\n",
       "<table border=\"1\" class=\"dataframe\">\n",
       "  <thead>\n",
       "    <tr style=\"text-align: right;\">\n",
       "      <th></th>\n",
       "      <th>bank</th>\n",
       "      <th>country</th>\n",
       "      <th>total_assets_us_b</th>\n",
       "    </tr>\n",
       "    <tr>\n",
       "      <th>rank</th>\n",
       "      <th></th>\n",
       "      <th></th>\n",
       "      <th></th>\n",
       "    </tr>\n",
       "  </thead>\n",
       "  <tbody>\n",
       "    <tr>\n",
       "      <th>1</th>\n",
       "      <td>Industrial &amp; Commercial Bank of China</td>\n",
       "      <td>China</td>\n",
       "      <td>4,005.58</td>\n",
       "    </tr>\n",
       "    <tr>\n",
       "      <th>2</th>\n",
       "      <td>China Construction Bank Corp</td>\n",
       "      <td>China</td>\n",
       "      <td>3,397.13</td>\n",
       "    </tr>\n",
       "    <tr>\n",
       "      <th>3</th>\n",
       "      <td>Agricultural Bank of China</td>\n",
       "      <td>China</td>\n",
       "      <td>3,232.68</td>\n",
       "    </tr>\n",
       "    <tr>\n",
       "      <th>4</th>\n",
       "      <td>Bank of China</td>\n",
       "      <td>China</td>\n",
       "      <td>2,989.16</td>\n",
       "    </tr>\n",
       "    <tr>\n",
       "      <th>5</th>\n",
       "      <td>Mitsubishi UFJ Financial Group</td>\n",
       "      <td>Japan</td>\n",
       "      <td>2,773.82</td>\n",
       "    </tr>\n",
       "    <tr>\n",
       "      <th>...</th>\n",
       "      <td>...</td>\n",
       "      <td>...</td>\n",
       "      <td>...</td>\n",
       "    </tr>\n",
       "    <tr>\n",
       "      <th>116</th>\n",
       "      <td>Qatar National Bank</td>\n",
       "      <td>Qatar</td>\n",
       "      <td>221.18</td>\n",
       "    </tr>\n",
       "    <tr>\n",
       "      <th>117</th>\n",
       "      <td>National Bank of Canada</td>\n",
       "      <td>Canada</td>\n",
       "      <td>208.408</td>\n",
       "    </tr>\n",
       "    <tr>\n",
       "      <th>118</th>\n",
       "      <td>Suntrust Banks</td>\n",
       "      <td>USA</td>\n",
       "      <td>205.962</td>\n",
       "    </tr>\n",
       "    <tr>\n",
       "      <th>119</th>\n",
       "      <td>Korea Development Bank</td>\n",
       "      <td>South Korea</td>\n",
       "      <td>205.145</td>\n",
       "    </tr>\n",
       "    <tr>\n",
       "      <th>120</th>\n",
       "      <td>Belfius</td>\n",
       "      <td>Belgium</td>\n",
       "      <td>201.192</td>\n",
       "    </tr>\n",
       "  </tbody>\n",
       "</table>\n",
       "<p>120 rows × 3 columns</p>\n",
       "</div>"
      ],
      "text/plain": [
       "                                       bank      country total_assets_us_b\n",
       "rank                                                                      \n",
       "1     Industrial & Commercial Bank of China        China          4,005.58\n",
       "2              China Construction Bank Corp        China          3,397.13\n",
       "3                Agricultural Bank of China        China          3,232.68\n",
       "4                             Bank of China        China          2,989.16\n",
       "5            Mitsubishi UFJ Financial Group        Japan          2,773.82\n",
       "...                                     ...          ...               ...\n",
       "116                     Qatar National Bank        Qatar            221.18\n",
       "117                 National Bank of Canada       Canada           208.408\n",
       "118                          Suntrust Banks          USA           205.962\n",
       "119                  Korea Development Bank  South Korea           205.145\n",
       "120                                 Belfius      Belgium           201.192\n",
       "\n",
       "[120 rows x 3 columns]"
      ]
     },
     "execution_count": 8,
     "metadata": {},
     "output_type": "execute_result"
    }
   ],
   "source": [
    "# Calling multiple columns MUST be a list in a list\n",
    "banks_df[[\"bank\", \"country\", \"total_assets_us_b\"]]"
   ]
  },
  {
   "cell_type": "code",
   "execution_count": 9,
   "id": "7f736fca",
   "metadata": {},
   "outputs": [
    {
     "data": {
      "text/html": [
       "<div>\n",
       "<style scoped>\n",
       "    .dataframe tbody tr th:only-of-type {\n",
       "        vertical-align: middle;\n",
       "    }\n",
       "\n",
       "    .dataframe tbody tr th {\n",
       "        vertical-align: top;\n",
       "    }\n",
       "\n",
       "    .dataframe thead th {\n",
       "        text-align: right;\n",
       "    }\n",
       "</style>\n",
       "<table border=\"1\" class=\"dataframe\">\n",
       "  <thead>\n",
       "    <tr style=\"text-align: right;\">\n",
       "      <th></th>\n",
       "      <th>bank</th>\n",
       "      <th>country</th>\n",
       "      <th>total_assets_us_b</th>\n",
       "    </tr>\n",
       "    <tr>\n",
       "      <th>rank</th>\n",
       "      <th></th>\n",
       "      <th></th>\n",
       "      <th></th>\n",
       "    </tr>\n",
       "  </thead>\n",
       "  <tbody>\n",
       "    <tr>\n",
       "      <th>1</th>\n",
       "      <td>Industrial &amp; Commercial Bank of China</td>\n",
       "      <td>China</td>\n",
       "      <td>4,005.58</td>\n",
       "    </tr>\n",
       "    <tr>\n",
       "      <th>2</th>\n",
       "      <td>China Construction Bank Corp</td>\n",
       "      <td>China</td>\n",
       "      <td>3,397.13</td>\n",
       "    </tr>\n",
       "    <tr>\n",
       "      <th>3</th>\n",
       "      <td>Agricultural Bank of China</td>\n",
       "      <td>China</td>\n",
       "      <td>3,232.68</td>\n",
       "    </tr>\n",
       "    <tr>\n",
       "      <th>4</th>\n",
       "      <td>Bank of China</td>\n",
       "      <td>China</td>\n",
       "      <td>2,989.16</td>\n",
       "    </tr>\n",
       "    <tr>\n",
       "      <th>5</th>\n",
       "      <td>Mitsubishi UFJ Financial Group</td>\n",
       "      <td>Japan</td>\n",
       "      <td>2,773.82</td>\n",
       "    </tr>\n",
       "  </tbody>\n",
       "</table>\n",
       "</div>"
      ],
      "text/plain": [
       "                                       bank country total_assets_us_b\n",
       "rank                                                                 \n",
       "1     Industrial & Commercial Bank of China   China          4,005.58\n",
       "2              China Construction Bank Corp   China          3,397.13\n",
       "3                Agricultural Bank of China   China          3,232.68\n",
       "4                             Bank of China   China          2,989.16\n",
       "5            Mitsubishi UFJ Financial Group   Japan          2,773.82"
      ]
     },
     "execution_count": 9,
     "metadata": {},
     "output_type": "execute_result"
    }
   ],
   "source": [
    "# Using slicing with loc \n",
    "banks_df.loc[1:5, \"bank\":\"total_assets_us_b\"]"
   ]
  },
  {
   "cell_type": "code",
   "execution_count": 10,
   "id": "250b1088",
   "metadata": {},
   "outputs": [
    {
     "data": {
      "text/html": [
       "<div>\n",
       "<style scoped>\n",
       "    .dataframe tbody tr th:only-of-type {\n",
       "        vertical-align: middle;\n",
       "    }\n",
       "\n",
       "    .dataframe tbody tr th {\n",
       "        vertical-align: top;\n",
       "    }\n",
       "\n",
       "    .dataframe thead th {\n",
       "        text-align: right;\n",
       "    }\n",
       "</style>\n",
       "<table border=\"1\" class=\"dataframe\">\n",
       "  <thead>\n",
       "    <tr style=\"text-align: right;\">\n",
       "      <th></th>\n",
       "      <th>bank</th>\n",
       "      <th>country</th>\n",
       "      <th>total_assets_us_b</th>\n",
       "    </tr>\n",
       "    <tr>\n",
       "      <th>rank</th>\n",
       "      <th></th>\n",
       "      <th></th>\n",
       "      <th></th>\n",
       "    </tr>\n",
       "  </thead>\n",
       "  <tbody>\n",
       "    <tr>\n",
       "      <th>1</th>\n",
       "      <td>Industrial &amp; Commercial Bank of China</td>\n",
       "      <td>China</td>\n",
       "      <td>4,005.58</td>\n",
       "    </tr>\n",
       "    <tr>\n",
       "      <th>2</th>\n",
       "      <td>China Construction Bank Corp</td>\n",
       "      <td>China</td>\n",
       "      <td>3,397.13</td>\n",
       "    </tr>\n",
       "    <tr>\n",
       "      <th>3</th>\n",
       "      <td>Agricultural Bank of China</td>\n",
       "      <td>China</td>\n",
       "      <td>3,232.68</td>\n",
       "    </tr>\n",
       "    <tr>\n",
       "      <th>4</th>\n",
       "      <td>Bank of China</td>\n",
       "      <td>China</td>\n",
       "      <td>2,989.16</td>\n",
       "    </tr>\n",
       "    <tr>\n",
       "      <th>5</th>\n",
       "      <td>Mitsubishi UFJ Financial Group</td>\n",
       "      <td>Japan</td>\n",
       "      <td>2,773.82</td>\n",
       "    </tr>\n",
       "    <tr>\n",
       "      <th>6</th>\n",
       "      <td>JPMorgan Chase &amp; Co</td>\n",
       "      <td>USA</td>\n",
       "      <td>2,533.60</td>\n",
       "    </tr>\n",
       "  </tbody>\n",
       "</table>\n",
       "</div>"
      ],
      "text/plain": [
       "                                       bank country total_assets_us_b\n",
       "rank                                                                 \n",
       "1     Industrial & Commercial Bank of China   China          4,005.58\n",
       "2              China Construction Bank Corp   China          3,397.13\n",
       "3                Agricultural Bank of China   China          3,232.68\n",
       "4                             Bank of China   China          2,989.16\n",
       "5            Mitsubishi UFJ Financial Group   Japan          2,773.82\n",
       "6                       JPMorgan Chase & Co     USA          2,533.60"
      ]
     },
     "execution_count": 10,
     "metadata": {},
     "output_type": "execute_result"
    }
   ],
   "source": [
    "# Using slicing with iloc (iloc counts with index being 0)\n",
    "banks_df.iloc[0:6, 0:3]"
   ]
  },
  {
   "cell_type": "code",
   "execution_count": 11,
   "id": "c14111d8",
   "metadata": {},
   "outputs": [
    {
     "data": {
      "text/html": [
       "<div>\n",
       "<style scoped>\n",
       "    .dataframe tbody tr th:only-of-type {\n",
       "        vertical-align: middle;\n",
       "    }\n",
       "\n",
       "    .dataframe tbody tr th {\n",
       "        vertical-align: top;\n",
       "    }\n",
       "\n",
       "    .dataframe thead th {\n",
       "        text-align: right;\n",
       "    }\n",
       "</style>\n",
       "<table border=\"1\" class=\"dataframe\">\n",
       "  <thead>\n",
       "    <tr style=\"text-align: right;\">\n",
       "      <th></th>\n",
       "      <th>bank</th>\n",
       "      <th>country</th>\n",
       "      <th>total_assets_us_b</th>\n",
       "    </tr>\n",
       "    <tr>\n",
       "      <th>rank</th>\n",
       "      <th></th>\n",
       "      <th></th>\n",
       "      <th></th>\n",
       "    </tr>\n",
       "  </thead>\n",
       "  <tbody>\n",
       "    <tr>\n",
       "      <th>1</th>\n",
       "      <td>Industrial &amp; Commercial Bank of China</td>\n",
       "      <td>China</td>\n",
       "      <td>4,005.58</td>\n",
       "    </tr>\n",
       "    <tr>\n",
       "      <th>3</th>\n",
       "      <td>Agricultural Bank of China</td>\n",
       "      <td>China</td>\n",
       "      <td>3,232.68</td>\n",
       "    </tr>\n",
       "    <tr>\n",
       "      <th>10</th>\n",
       "      <td>China Development Bank</td>\n",
       "      <td>China</td>\n",
       "      <td>2,201.86</td>\n",
       "    </tr>\n",
       "  </tbody>\n",
       "</table>\n",
       "</div>"
      ],
      "text/plain": [
       "                                       bank country total_assets_us_b\n",
       "rank                                                                 \n",
       "1     Industrial & Commercial Bank of China   China          4,005.58\n",
       "3                Agricultural Bank of China   China          3,232.68\n",
       "10                   China Development Bank   China          2,201.86"
      ]
     },
     "execution_count": 11,
     "metadata": {},
     "output_type": "execute_result"
    }
   ],
   "source": [
    "# Using list with loc\n",
    "banks_df.loc[[1, 3, 10], \"bank\":\"total_assets_us_b\"]"
   ]
  },
  {
   "cell_type": "code",
   "execution_count": 12,
   "id": "57495a01",
   "metadata": {},
   "outputs": [
    {
     "data": {
      "text/html": [
       "<div>\n",
       "<style scoped>\n",
       "    .dataframe tbody tr th:only-of-type {\n",
       "        vertical-align: middle;\n",
       "    }\n",
       "\n",
       "    .dataframe tbody tr th {\n",
       "        vertical-align: top;\n",
       "    }\n",
       "\n",
       "    .dataframe thead th {\n",
       "        text-align: right;\n",
       "    }\n",
       "</style>\n",
       "<table border=\"1\" class=\"dataframe\">\n",
       "  <thead>\n",
       "    <tr style=\"text-align: right;\">\n",
       "      <th></th>\n",
       "      <th>bank</th>\n",
       "      <th>country</th>\n",
       "      <th>total_assets_us_b</th>\n",
       "    </tr>\n",
       "    <tr>\n",
       "      <th>rank</th>\n",
       "      <th></th>\n",
       "      <th></th>\n",
       "      <th></th>\n",
       "    </tr>\n",
       "  </thead>\n",
       "  <tbody>\n",
       "    <tr>\n",
       "      <th>2</th>\n",
       "      <td>China Construction Bank Corp</td>\n",
       "      <td>China</td>\n",
       "      <td>3,397.13</td>\n",
       "    </tr>\n",
       "    <tr>\n",
       "      <th>4</th>\n",
       "      <td>Bank of China</td>\n",
       "      <td>China</td>\n",
       "      <td>2,989.16</td>\n",
       "    </tr>\n",
       "    <tr>\n",
       "      <th>11</th>\n",
       "      <td>Credit Agricole Group</td>\n",
       "      <td>France</td>\n",
       "      <td>2,112.04</td>\n",
       "    </tr>\n",
       "  </tbody>\n",
       "</table>\n",
       "</div>"
      ],
      "text/plain": [
       "                              bank country total_assets_us_b\n",
       "rank                                                        \n",
       "2     China Construction Bank Corp   China          3,397.13\n",
       "4                    Bank of China   China          2,989.16\n",
       "11           Credit Agricole Group  France          2,112.04"
      ]
     },
     "execution_count": 12,
     "metadata": {},
     "output_type": "execute_result"
    }
   ],
   "source": [
    "# Using list with iloc\n",
    "banks_df.iloc[[1, 3, 10], 0:3]"
   ]
  },
  {
   "cell_type": "code",
   "execution_count": 13,
   "id": "d01ec10c",
   "metadata": {},
   "outputs": [
    {
     "name": "stdout",
     "output_type": "stream",
     "text": [
      "<class 'pandas.core.frame.DataFrame'>\n"
     ]
    },
    {
     "data": {
      "text/html": [
       "<div>\n",
       "<style scoped>\n",
       "    .dataframe tbody tr th:only-of-type {\n",
       "        vertical-align: middle;\n",
       "    }\n",
       "\n",
       "    .dataframe tbody tr th {\n",
       "        vertical-align: top;\n",
       "    }\n",
       "\n",
       "    .dataframe thead th {\n",
       "        text-align: right;\n",
       "    }\n",
       "</style>\n",
       "<table border=\"1\" class=\"dataframe\">\n",
       "  <thead>\n",
       "    <tr style=\"text-align: right;\">\n",
       "      <th></th>\n",
       "      <th>country</th>\n",
       "    </tr>\n",
       "    <tr>\n",
       "      <th>rank</th>\n",
       "      <th></th>\n",
       "    </tr>\n",
       "  </thead>\n",
       "  <tbody>\n",
       "    <tr>\n",
       "      <th>3</th>\n",
       "      <td>China</td>\n",
       "    </tr>\n",
       "  </tbody>\n",
       "</table>\n",
       "</div>"
      ],
      "text/plain": [
       "     country\n",
       "rank        \n",
       "3      China"
      ]
     },
     "execution_count": 13,
     "metadata": {},
     "output_type": "execute_result"
    }
   ],
   "source": [
    "# Dataframe vs. string outputs\n",
    "print(type(banks_df.iloc[[2], [1]]))\n",
    "banks_df.iloc[[2], [1]]"
   ]
  },
  {
   "cell_type": "code",
   "execution_count": 14,
   "id": "cd5a38e5",
   "metadata": {},
   "outputs": [
    {
     "name": "stdout",
     "output_type": "stream",
     "text": [
      "<class 'str'>\n"
     ]
    },
    {
     "data": {
      "text/plain": [
       "'China'"
      ]
     },
     "execution_count": 14,
     "metadata": {},
     "output_type": "execute_result"
    }
   ],
   "source": [
    "print(type(banks_df.iloc[2,1]))\n",
    "banks_df.iloc[2,1]"
   ]
  },
  {
   "cell_type": "code",
   "execution_count": 15,
   "id": "6d050d8f",
   "metadata": {},
   "outputs": [
    {
     "name": "stdout",
     "output_type": "stream",
     "text": [
      "<class 'str'>\n"
     ]
    },
    {
     "data": {
      "text/plain": [
       "'China Construction Bank Corp'"
      ]
     },
     "execution_count": 15,
     "metadata": {},
     "output_type": "execute_result"
    }
   ],
   "source": [
    "print(type(banks_df.loc[2, \"bank\"]))\n",
    "banks_df.loc[2, \"bank\"]"
   ]
  },
  {
   "cell_type": "code",
   "execution_count": 16,
   "id": "f96f3377",
   "metadata": {
    "scrolled": true
   },
   "outputs": [
    {
     "data": {
      "text/html": [
       "<div>\n",
       "<style scoped>\n",
       "    .dataframe tbody tr th:only-of-type {\n",
       "        vertical-align: middle;\n",
       "    }\n",
       "\n",
       "    .dataframe tbody tr th {\n",
       "        vertical-align: top;\n",
       "    }\n",
       "\n",
       "    .dataframe thead th {\n",
       "        text-align: right;\n",
       "    }\n",
       "</style>\n",
       "<table border=\"1\" class=\"dataframe\">\n",
       "  <thead>\n",
       "    <tr style=\"text-align: right;\">\n",
       "      <th></th>\n",
       "      <th>bank</th>\n",
       "      <th>total_assets_us_b</th>\n",
       "    </tr>\n",
       "    <tr>\n",
       "      <th>rank</th>\n",
       "      <th></th>\n",
       "      <th></th>\n",
       "    </tr>\n",
       "  </thead>\n",
       "  <tbody>\n",
       "    <tr>\n",
       "      <th>1</th>\n",
       "      <td>Industrial &amp; Commercial Bank of China</td>\n",
       "      <td>4,005.58</td>\n",
       "    </tr>\n",
       "    <tr>\n",
       "      <th>2</th>\n",
       "      <td>China Construction Bank Corp</td>\n",
       "      <td>3,397.13</td>\n",
       "    </tr>\n",
       "    <tr>\n",
       "      <th>3</th>\n",
       "      <td>Agricultural Bank of China</td>\n",
       "      <td>3,232.68</td>\n",
       "    </tr>\n",
       "    <tr>\n",
       "      <th>4</th>\n",
       "      <td>Bank of China</td>\n",
       "      <td>2,989.16</td>\n",
       "    </tr>\n",
       "  </tbody>\n",
       "</table>\n",
       "</div>"
      ],
      "text/plain": [
       "                                       bank total_assets_us_b\n",
       "rank                                                         \n",
       "1     Industrial & Commercial Bank of China          4,005.58\n",
       "2              China Construction Bank Corp          3,397.13\n",
       "3                Agricultural Bank of China          3,232.68\n",
       "4                             Bank of China          2,989.16"
      ]
     },
     "execution_count": 16,
     "metadata": {},
     "output_type": "execute_result"
    }
   ],
   "source": [
    "# alternative input using variables for better readability\n",
    "rows = [1,2,3,4]\n",
    "cols = [\"bank\", \"total_assets_us_b\"]\n",
    "banks_df.loc[rows, cols]"
   ]
  }
 ],
 "metadata": {
  "kernelspec": {
   "display_name": "Python 3 (ipykernel)",
   "language": "python",
   "name": "python3"
  },
  "language_info": {
   "codemirror_mode": {
    "name": "ipython",
    "version": 3
   },
   "file_extension": ".py",
   "mimetype": "text/x-python",
   "name": "python",
   "nbconvert_exporter": "python",
   "pygments_lexer": "ipython3",
   "version": "3.9.7"
  }
 },
 "nbformat": 4,
 "nbformat_minor": 5
}
