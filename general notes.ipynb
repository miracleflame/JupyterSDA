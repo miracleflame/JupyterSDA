{
 "cells": [
  {
   "cell_type": "code",
   "execution_count": 2,
   "id": "be96ad9a",
   "metadata": {},
   "outputs": [
    {
     "data": {
      "text/plain": [
       "[\"'!' is not recognized as an internal or external command,\",\n",
       " 'operable program or batch file.']"
      ]
     },
     "execution_count": 2,
     "metadata": {},
     "output_type": "execute_result"
    }
   ],
   "source": [
    "https://gitlab.com/wmwmw/python_from_scratch/-/tree/master\n",
    "Zdroje\n",
    "oficiální dokumentace - https://docs.python.org/3/\n",
    "oficiální tutoriál - https://docs.python.org/3/tutorial/\n",
    "oficiální rozcestník tutoriálů - https://wiki.python.org/moin/BeginnersGuide/NonProgrammers\n",
    "programovací úlohy - https://www.codewars.com/\n",
    "https://adventofcode.com/\n",
    "Něco pro milovníky knih\n",
    "Python Crash Course (2nd ed.) - https://knihy.heureka.cz/python-crash-course-2nd-edition/\n",
    "Two Scoops of Django (ideálně 3.x) - https://www.feldroy.com/collections/two-scoops-press/products/two-scoops-of-django-3-x\n",
    "  •\tKnihy z edice CZ NIC (například Ponořme se do Python(u), Pro GIT)- https://knihy.nic.cz/\n",
    "  •\tPython 3 - https://knihy.heureka.cz/python-3-mark-summerfield/\n",
    "  •\tAutomate Boring Stuff with Python - https://automatetheboringstuff.com/\n",
    "Komunita\n",
    "Facebook skupina Pyonieri - https://www.facebook.com/groups/pyonieri/\n",
    "Pyvo - https://pyvo.cz/\n",
    "Pycon - https://cz.pycon.org/\n",
    "a speciálně pro menšinu v IT:\n",
    "PyLadies - https://pyladies.cz/\n",
    "Django Girls - https://djangogirls.org/"
   ]
  },
  {
   "cell_type": "code",
   "execution_count": null,
   "id": "230e660d",
   "metadata": {},
   "outputs": [],
   "source": []
  }
 ],
 "metadata": {
  "kernelspec": {
   "display_name": "Python 3 (ipykernel)",
   "language": "python",
   "name": "python3"
  },
  "language_info": {
   "codemirror_mode": {
    "name": "ipython",
    "version": 3
   },
   "file_extension": ".py",
   "mimetype": "text/x-python",
   "name": "python",
   "nbconvert_exporter": "python",
   "pygments_lexer": "ipython3",
   "version": "3.10.4"
  }
 },
 "nbformat": 4,
 "nbformat_minor": 5
}
